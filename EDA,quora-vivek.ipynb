{
 "cells": [
  {
   "cell_type": "markdown",
   "metadata": {},
   "source": [
    "# Aim:\n",
    "          To analyse the Quora question pair dataset.\n",
    "          \n",
    " # Columns:\n",
    "              The columns provided in the dataset are \"id\", \"qid1\", \"qid2\", \"question1\",\"question2\"\n",
    "              \n",
    "              # id\n",
    "      It provides us a unique number given to the question pair.\n",
    "\n",
    "# qid\n",
    "      It is question id which is uniquely provided to each and every question.(Not a column)\n",
    "\n",
    "# qid1\n",
    "      It is the qid provided to the first question of the question pair.\n",
    "\n",
    "# qid2\n",
    "      It is the qid provided to the second question of the question pair.\n",
    "\n",
    "# question1\n",
    "      Full text question of the question pair.\n",
    "\n",
    "# question2\n",
    "      Another full text question of the question pair.\n",
    "# is_duplicate\n",
    "      Answers wether the question 2 is duplicate of question 1.\n",
    "\n",
    "There are 404352 question pairs available in the dataset."
   ]
  },
  {
   "cell_type": "markdown",
   "metadata": {},
   "source": [
    "# Importing packages."
   ]
  },
  {
   "cell_type": "code",
   "execution_count": 1,
   "metadata": {},
   "outputs": [],
   "source": [
    "import numpy as np\n",
    "import seaborn as sns\n",
    "import pandas as pd\n",
    "import matplotlib.pyplot as plt\n",
    "from sklearn.feature_extraction.text import TfidfVectorizer\n",
    "import nltk"
   ]
  },
  {
   "cell_type": "markdown",
   "metadata": {},
   "source": [
    "# Linking and extracting the 'csv' file."
   ]
  },
  {
   "cell_type": "code",
   "execution_count": 2,
   "metadata": {},
   "outputs": [],
   "source": [
    "questions=pd.read_csv(\"Desktop/questions.csv\")"
   ]
  },
  {
   "cell_type": "code",
   "execution_count": 3,
   "metadata": {},
   "outputs": [
    {
     "name": "stdout",
     "output_type": "stream",
     "text": [
      "<class 'pandas.core.frame.DataFrame'>\n",
      "RangeIndex: 404351 entries, 0 to 404350\n",
      "Data columns (total 6 columns):\n",
      "id              404351 non-null int64\n",
      "qid1            404351 non-null int64\n",
      "qid2            404351 non-null int64\n",
      "question1       404350 non-null object\n",
      "question2       404349 non-null object\n",
      "is_duplicate    404351 non-null int64\n",
      "dtypes: int64(4), object(2)\n",
      "memory usage: 18.5+ MB\n"
     ]
    }
   ],
   "source": [
    "questions.info()"
   ]
  },
  {
   "cell_type": "markdown",
   "metadata": {},
   "source": [
    "# Observation\n",
    "Knowing the number of values in each column of our dataset."
   ]
  },
  {
   "cell_type": "markdown",
   "metadata": {},
   "source": [
    "# Graphing number of duplicates and non dublicate question pairs."
   ]
  },
  {
   "cell_type": "code",
   "execution_count": 5,
   "metadata": {},
   "outputs": [
    {
     "name": "stdout",
     "output_type": "stream",
     "text": [
      "0    255045\n",
      "1    149306\n",
      "Name: is_duplicate, dtype: int64\n"
     ]
    },
    {
     "data": {
      "image/png": "[encoded data removed]",
      "text/plain": [
       "<Figure size 432x288 with 1 Axes>"
      ]
     },
     "metadata": {
      "needs_background": "light"
     },
     "output_type": "display_data"
    }
   ],
   "source": [
    "duplicate=questions['is_duplicate'].value_counts()\n",
    "print(duplicate)\n",
    "sns.barplot(duplicate.index,duplicate.values)\n",
    "plt.xlabel('Is duplicate')\n",
    "plt.show()"
   ]
  },
  {
   "cell_type": "markdown",
   "metadata": {},
   "source": [
    "# Observation:\n",
    "We observe that the number of duplicate questions are almost half of the actual questions."
   ]
  },
  {
   "cell_type": "markdown",
   "metadata": {},
   "source": [
    "# Analysing the data."
   ]
  },
  {
   "cell_type": "code",
   "execution_count": 14,
   "metadata": {},
   "outputs": [
    {
     "name": "stdout",
     "output_type": "stream",
     "text": [
      "Number of questions available=404351\n"
     ]
    }
   ],
   "source": [
    "print(\"Number of questions available={}\".format(len(questions)))"
   ]
  },
  {
   "cell_type": "code",
   "execution_count": 20,
   "metadata": {},
   "outputs": [
    {
     "name": "stdout",
     "output_type": "stream",
     "text": [
      "Percentage of not similar question pairs=63.08 \n",
      "Percentage of similar question pairs=36.92\n"
     ]
    }
   ],
   "source": [
    "print(\"Percentage of not similar question pairs={} \".format(100-round(questions[\"is_duplicate\"].mean()*100,2)))#mean adds up the number of '1' which is the duplicate question pairs.\n",
    "print(\"Percentage of similar question pairs={}\".format(round(questions['is_duplicate'].mean()*100,2)))"
   ]
  },
  {
   "cell_type": "markdown",
   "metadata": {},
   "source": [
    "# Observing the repeatation of questions."
   ]
  },
  {
   "cell_type": "code",
   "execution_count": 36,
   "metadata": {},
   "outputs": [
    {
     "name": "stdout",
     "output_type": "stream",
     "text": [
      "Number of unique questiosn available=789801\n",
      "Number of questions which are repeated atleast one=13698\n",
      "Whose percentage is 1.7047936587351074\n"
     ]
    }
   ],
   "source": [
    "#Arranging the question id's in series. After converting it into list.\n",
    "qid1=pd.Series(questions['qid1'].tolist() + questions['qid2'].tolist())\n",
    "unique=np.unique(qid1)\n",
    "print(\"Number of unique questiosn available={}\".format(len(unique)))\n",
    "repeated=np.sum((qid1.value_counts())>1)# If a number is repeated  more than a time, it gets added.\n",
    "print(\"Number of questions which are repeated atleast one={}\".format(repeated))\n",
    "print(\"Whose percentage is {}\".format((13698*100)/(789801+13698)))\n",
    "qidvalues=qid1.value_counts()#Counting the values\n",
    "qidvalues=qidvalues.to_numpy()# converting it into a numpy array"
   ]
  },
  {
   "cell_type": "markdown",
   "metadata": {},
   "source": [
    "# Observation:\n",
    "Percentage of unique questions, number of available and repeated questions and conversion of number of values in numpy array"
   ]
  },
  {
   "cell_type": "markdown",
   "metadata": {},
   "source": [
    "# Using the values to plot a bar plot"
   ]
  },
  {
   "cell_type": "code",
   "execution_count": 54,
   "metadata": {},
   "outputs": [
    {
     "data": {
      "image/png": "[encoded data removed]",
      "text/plain": [
       "<Figure size 432x288 with 1 Axes>"
      ]
     },
     "metadata": {
      "needs_background": "light"
     },
     "output_type": "display_data"
    }
   ],
   "source": [
    "label=[\"Unique questions\",\"Repeated questions\"]\n",
    "pl=[len(unique),repeated]\n",
    "sns.barplot(label,pl)\n",
    "plt.title(\"Number of repeated and unique questions\")\n",
    "plt.show()"
   ]
  },
  {
   "cell_type": "markdown",
   "metadata": {},
   "source": [
    "# Checking wether a row is repeated or wether a question pair is repeated."
   ]
  },
  {
   "cell_type": "code",
   "execution_count": 65,
   "metadata": {},
   "outputs": [
    {
     "name": "stdout",
     "output_type": "stream",
     "text": [
      "Number of repeated rows=3\n"
     ]
    }
   ],
   "source": [
    "duppair=questions[[\"qid1\",\"qid2\",\"is_duplicate\"]].groupby(['qid1','qid2',]).count().reset_index()# The repeated rows are removed and arranged.\n",
    "x=(questions.shape[0]-duppair.shape[0])# converting number of rows into a single number and then calculating.\n",
    "print(\"Number of repeated rows={}\".format(x))"
   ]
  },
  {
   "cell_type": "markdown",
   "metadata": {},
   "source": [
    "# Observation:\n",
    "So the number rows that are being repeated are 3.So we need can remove these rows."
   ]
  },
  {
   "cell_type": "markdown",
   "metadata": {},
   "source": [
    "# Plotting a graph to understand, how many times a question has repeated."
   ]
  },
  {
   "cell_type": "code",
   "execution_count": 90,
   "metadata": {},
   "outputs": [
    {
     "data": {
      "image/png": "[encoded data removed]",
      "text/plain": [
       "<Figure size 720x720 with 1 Axes>"
      ]
     },
     "metadata": {
      "needs_background": "light"
     },
     "output_type": "display_data"
    }
   ],
   "source": [
    "plt.figure(figsize=(10,10))\n",
    "plt.hist(qid1.value_counts(),bins=200)# Hard to differentiate between the lines. So modifying the y scale.\n",
    "plt.yscale('log',nonposy=\"clip\")# Converting the values to log.So that the bar is visualable.\n",
    "plt.show()"
   ]
  },
  {
   "cell_type": "markdown",
   "metadata": {},
   "source": [
    "# Observation:\n",
    "Few questions are repeated many times than others."
   ]
  },
  {
   "cell_type": "markdown",
   "metadata": {},
   "source": [
    "# Finding the most repeated question."
   ]
  },
  {
   "cell_type": "code",
   "execution_count": 97,
   "metadata": {},
   "outputs": [],
   "source": [
    "from collections import Counter"
   ]
  },
  {
   "cell_type": "code",
   "execution_count": 108,
   "metadata": {},
   "outputs": [],
   "source": [
    "occ=Counter(qid1)\n",
    "most=occ.most_common(1)[0][0]"
   ]
  },
  {
   "cell_type": "code",
   "execution_count": 107,
   "metadata": {},
   "outputs": [
    {
     "data": {
      "text/plain": [
       "65333"
      ]
     },
     "execution_count": 107,
     "metadata": {},
     "output_type": "execute_result"
    }
   ],
   "source": [
    "most"
   ]
  },
  {
   "cell_type": "code",
   "execution_count": 112,
   "metadata": {},
   "outputs": [
    {
     "data": {
      "text/html": [
       "<div>\n",
       "<style scoped>\n",
       "    .dataframe tbody tr th:only-of-type {\n",
       "        vertical-align: middle;\n",
       "    }\n",
       "\n",
       "    .dataframe tbody tr th {\n",
       "        vertical-align: top;\n",
       "    }\n",
       "\n",
       "    .dataframe thead th {\n",
       "        text-align: right;\n",
       "    }\n",
       "</style>\n",
       "<table border=\"1\" class=\"dataframe\">\n",
       "  <thead>\n",
       "    <tr style=\"text-align: right;\">\n",
       "      <th></th>\n",
       "      <th>id</th>\n",
       "      <th>qid1</th>\n",
       "      <th>qid2</th>\n",
       "      <th>question1</th>\n",
       "      <th>question2</th>\n",
       "      <th>is_duplicate</th>\n",
       "    </tr>\n",
       "  </thead>\n",
       "  <tbody>\n",
       "    <tr>\n",
       "      <th>81000</th>\n",
       "      <td>81000</td>\n",
       "      <td>65333</td>\n",
       "      <td>160900</td>\n",
       "      <td>What are the best ways to reduce and eliminate...</td>\n",
       "      <td>How can I stay fit without going to a gym?</td>\n",
       "      <td>0</td>\n",
       "    </tr>\n",
       "    <tr>\n",
       "      <th>174180</th>\n",
       "      <td>174180</td>\n",
       "      <td>65333</td>\n",
       "      <td>344125</td>\n",
       "      <td>What are the best ways to reduce and eliminate...</td>\n",
       "      <td>How can I lose weight quickly?</td>\n",
       "      <td>0</td>\n",
       "    </tr>\n",
       "    <tr>\n",
       "      <th>231901</th>\n",
       "      <td>231901</td>\n",
       "      <td>65333</td>\n",
       "      <td>456930</td>\n",
       "      <td>What are the best ways to reduce and eliminate...</td>\n",
       "      <td>What is the best exercise for belly fat?</td>\n",
       "      <td>1</td>\n",
       "    </tr>\n",
       "  </tbody>\n",
       "</table>\n",
       "</div>"
      ],
      "text/plain": [
       "            id   qid1    qid2  \\\n",
       "81000    81000  65333  160900   \n",
       "174180  174180  65333  344125   \n",
       "231901  231901  65333  456930   \n",
       "\n",
       "                                                question1  \\\n",
       "81000   What are the best ways to reduce and eliminate...   \n",
       "174180  What are the best ways to reduce and eliminate...   \n",
       "231901  What are the best ways to reduce and eliminate...   \n",
       "\n",
       "                                         question2  is_duplicate  \n",
       "81000   How can I stay fit without going to a gym?             0  \n",
       "174180              How can I lose weight quickly?             0  \n",
       "231901    What is the best exercise for belly fat?             1  "
      ]
     },
     "execution_count": 112,
     "metadata": {},
     "output_type": "execute_result"
    }
   ],
   "source": [
    "questions.loc[questions['qid1'] == 65333]"
   ]
  },
  {
   "cell_type": "markdown",
   "metadata": {},
   "source": [
    "# Observation:\n",
    "The most frequently asked question was about \"How to reduce belly fat\"!"
   ]
  },
  {
   "cell_type": "code",
   "execution_count": null,
   "metadata": {},
   "outputs": [],
   "source": []
  }
 ],
 "metadata": {
  "kernelspec": {
   "display_name": "Python 3",
   "language": "python",
   "name": "python3"
  },
  "language_info": {
   "codemirror_mode": {
    "name": "ipython",
    "version": 3
   },
   "file_extension": ".py",
   "mimetype": "text/x-python",
   "name": "python",
   "nbconvert_exporter": "python",
   "pygments_lexer": "ipython3",
   "version": "3.9.2"
  }
 },
 "nbformat": 4,
 "nbformat_minor": 2
}
